{
 "cells": [
  {
   "cell_type": "code",
   "execution_count": 114,
   "id": "d3f6a7b1",
   "metadata": {
    "scrolled": false
   },
   "outputs": [
    {
     "name": "stdout",
     "output_type": "stream",
     "text": [
      "There are 576 books listed on BookLooks as of 05/29/2023.\n",
      "Roughly 46.0% of those titles are rated three or higher.\n",
      "Ellen Hopkins is the most frequently mentioned author with 20 titles in this list. \n",
      "\n"
     ]
    }
   ],
   "source": [
    "%run scraper1.py"
   ]
  },
  {
   "cell_type": "code",
   "execution_count": 14,
   "id": "933e930b",
   "metadata": {},
   "outputs": [],
   "source": [
    "most_challenged_author = df1.author.value_counts().index[0]\n",
    "df1['rating']=df1.rating.astype(int)\n",
    "most_common_rating_value=df1[df1.author==most_challenged_author].rating.astype(str).value_counts()[0]\n",
    "most_common_rating=df1[df1.author==most_challenged_author].rating.astype(str).value_counts().index[0]\n",
    "print(\"About \"+str(most_common_rating_value)+\" of \"+str(most_challenged_author)+\" books have a \"+str(most_common_rating)+\" rating on BookLooks.\")\n",
    "print(\"This author has \"+str(mchallaut_highest)+\" titles with the highest (worst) rating on BookLooks.\")"
   ]
  },
  {
   "cell_type": "code",
   "execution_count": 53,
   "id": "ba9aed4f",
   "metadata": {},
   "outputs": [],
   "source": [
    "df1['rating']=df1.rating.astype(int)\n",
    "most_common_rating_value=df1[df1.author==most_challenged_author].rating.astype(str).value_counts()[0]\n",
    "most_common_rating=df1[df1.author==most_challenged_author].rating.astype(str).value_counts().index[0]\n",
    "print(\"About \"+str(most_common_rating_value)+\" of \"+str(most_challenged_author)+\" books have a \"+str(most_common_rating)+\" rating on BookLooks.\")\n",
    "print(\"This author has \"+str(mchallaut_highest)+\" titles with the highest (worst) rating on BookLooks.\")"
   ]
  },
  {
   "cell_type": "code",
   "execution_count": 76,
   "id": "a6b31f12",
   "metadata": {},
   "outputs": [],
   "source": [
    "most_common_rating_value=df1[df1.author==most_challenged_author].rating.astype(str).value_counts()[0]\n",
    "most_common_rating=df1[df1.author==most_challenged_author].rating.astype(str).value_counts().index[0]\n",
    "print(\"About \"+str(most_common_rating_value)+\" of \"+str(most_challenged_author)+\" books have a \"+str(most_common_rating)+\" rating on BookLooks.\")\n",
    "print(\"This author has \"+str(mchallaut_highest)+\" titles with the highest (worst) rating on BookLooks.\")"
   ]
  },
  {
   "cell_type": "code",
   "execution_count": 75,
   "id": "c8221bfa",
   "metadata": {},
   "outputs": [],
   "source": [
    "most_common_rating=df1[df1.author==most_challenged_author].rating.astype(str).value_counts().index[0]\n",
    "print(\"About \"+str(most_common_rating_value)+\" of \"+str(most_challenged_author)+\" books have a \"+str(most_common_rating)+\" rating on BookLooks.\")\n",
    "print(\"This author has \"+str(mchallaut_highest)+\" titles with the highest (worst) rating on BookLooks.\")"
   ]
  },
  {
   "cell_type": "code",
   "execution_count": 83,
   "id": "ddc0ee34",
   "metadata": {},
   "outputs": [
    {
     "name": "stdout",
     "output_type": "stream",
     "text": [
      "About 9 of Ellen Hopkins books have a 3 rating on BookLooks.\n"
     ]
    }
   ],
   "source": [
    "print(\"About \"+str(most_common_rating_value)+\" of \"+str(most_challenged_author)+\" books have a \"+str(most_common_rating)+\" rating on BookLooks.\")\n",
    "print(\"This author has \"+str(mchallaut_highest)+\" titles with the highest (worst) rating on BookLooks.\")"
   ]
  },
  {
   "cell_type": "code",
   "execution_count": 97,
   "id": "76c7519a",
   "metadata": {},
   "outputs": [],
   "source": [
    "mchallaut_highest=df1[(df1.author==most_challenged_author)&(df1.rating==5)].title.count()"
   ]
  },
  {
   "cell_type": "code",
   "execution_count": 111,
   "id": "21ce1709",
   "metadata": {},
   "outputs": [
    {
     "name": "stdout",
     "output_type": "stream",
     "text": [
      "This author has 2 titles with the highest (worst) rating on BookLooks.\n"
     ]
    }
   ],
   "source": [
    "print(\"This author has \"+str(mchallaut_highest)+\" titles with the highest (worst) rating on BookLooks.\")"
   ]
  },
  {
   "cell_type": "code",
   "execution_count": 108,
   "id": "fc623042",
   "metadata": {},
   "outputs": [
    {
     "data": {
      "text/plain": [
       "5"
      ]
     },
     "execution_count": 108,
     "metadata": {},
     "output_type": "execute_result"
    }
   ],
   "source": [
    "df1[(df1.author==most_challenged_author)].rating.max()"
   ]
  },
  {
   "cell_type": "code",
   "execution_count": 107,
   "id": "5bc0a5db",
   "metadata": {},
   "outputs": [
    {
     "data": {
      "text/plain": [
       "467    Triangles\n",
       "468       Tricks\n",
       "Name: title, dtype: object"
      ]
     },
     "execution_count": 107,
     "metadata": {},
     "output_type": "execute_result"
    }
   ],
   "source": [
    "df1[(df1.author==most_challenged_author)&(df1.rating==5)].title"
   ]
  },
  {
   "cell_type": "markdown",
   "id": "12444f37",
   "metadata": {},
   "source": [
    "scrape this page next\n",
    "https://en.wikipedia.org/wiki/List_of_most_commonly_challenged_books_in_the_United_States"
   ]
  }
 ],
 "metadata": {
  "kernelspec": {
   "display_name": "Python 3 (ipykernel)",
   "language": "python",
   "name": "python3"
  },
  "language_info": {
   "codemirror_mode": {
    "name": "ipython",
    "version": 3
   },
   "file_extension": ".py",
   "mimetype": "text/x-python",
   "name": "python",
   "nbconvert_exporter": "python",
   "pygments_lexer": "ipython3",
   "version": "3.10.5"
  }
 },
 "nbformat": 4,
 "nbformat_minor": 5
}
