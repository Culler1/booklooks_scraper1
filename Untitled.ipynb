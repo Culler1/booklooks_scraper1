{
 "cells": [
  {
   "cell_type": "code",
   "execution_count": 2,
   "id": "7ab8ed54",
   "metadata": {},
   "outputs": [
    {
     "name": "stdout",
     "output_type": "stream",
     "text": [
      "There are 577 books listed on BookLooks as of 06/02/2023.\n",
      "Roughly 46.0% of those titles are rated three or higher.\n",
      "Ellen Hopkins is the most frequently mentioned author with 20 titles in this list. \n",
      "\n"
     ]
    }
   ],
   "source": [
    "%run scraper1.py"
   ]
  },
  {
   "cell_type": "code",
   "execution_count": 2,
   "id": "5dafbdaf",
   "metadata": {},
   "outputs": [],
   "source": [
    "a1=pd.read_csv(\"bookLooks_05_30_2023.csv\")"
   ]
  },
  {
   "cell_type": "code",
   "execution_count": 12,
   "id": "a3f203ef",
   "metadata": {},
   "outputs": [],
   "source": [
    "url = 'https://www.amazon.com/'\n",
    "headers={'User-Agent': 'Mozilla/5.0 (Windows NT 10.0; Win64; x64) AppleWebKit/537.36 (KHTML, like Gecko) Chrome/102.0.0.0 Safari/537.36'}\n",
    "r = requests.get(url=url, headers=headers)\n",
    "soup = BeautifulSoup(r.content,'html')\n"
   ]
  },
  {
   "cell_type": "code",
   "execution_count": 13,
   "id": "57e0b7ec",
   "metadata": {},
   "outputs": [
    {
     "data": {
      "text/plain": [
       "<!DOCTYPE html>\n",
       "<!--[if lt IE 7]> <html lang=\"en-us\" class=\"a-no-js a-lt-ie9 a-lt-ie8 a-lt-ie7\"> <![endif]--><!--[if IE 7]>    <html lang=\"en-us\" class=\"a-no-js a-lt-ie9 a-lt-ie8\"> <![endif]--><!--[if IE 8]>    <html lang=\"en-us\" class=\"a-no-js a-lt-ie9\"> <![endif]--><!--[if gt IE 8]><!--><html class=\"a-no-js\" lang=\"en-us\"><!--<![endif]--><head>\n",
       "<meta content=\"text/html; charset=utf-8\" http-equiv=\"content-type\"/>\n",
       "<meta charset=\"utf-8\"/>\n",
       "<meta content=\"IE=edge,chrome=1\" http-equiv=\"X-UA-Compatible\"/>\n",
       "<title dir=\"ltr\">Amazon.com</title>\n",
       "<meta content=\"width=device-width\" name=\"viewport\"/>\n",
       "<link href=\"https://images-na.ssl-images-amazon.com/images/G/01/AUIClients/AmazonUI-3c913031596ca78a3768f4e934b1cc02ce238101.secure.min._V1_.css\" rel=\"stylesheet\"/>\n",
       "<script>\n",
       "\n",
       "if (true === true) {\n",
       "    var ue_t0 = (+ new Date()),\n",
       "        ue_csm = window,\n",
       "        ue = { t0: ue_t0, d: function() { return (+new Date() - ue_t0); } },\n",
       "        ue_furl = \"fls-na.amazon.com\",\n",
       "        ue_mid = \"ATVPDKIKX0DER\",\n",
       "        ue_sid = (document.cookie.match(/session-id=([0-9-]+)/) || [])[1],\n",
       "        ue_sn = \"opfcaptcha.amazon.com\",\n",
       "        ue_id = 'ED308810ARK8YFS7JV0K';\n",
       "}\n",
       "</script>\n",
       "</head>\n",
       "<body>\n",
       "<!--\n",
       "        To discuss automated access to Amazon data please contact api-services-support@amazon.com.\n",
       "        For information about migrating to our APIs refer to our Marketplace APIs at https://developer.amazonservices.com/ref=rm_c_sv, or our Product Advertising API at https://affiliate-program.amazon.com/gp/advertising/api/detail/main.html/ref=rm_c_ac for advertising use cases.\n",
       "-->\n",
       "<!--\n",
       "Correios.DoNotSend\n",
       "-->\n",
       "<div class=\"a-container a-padding-double-large\" style=\"min-width:350px;padding:44px 0 !important\">\n",
       "<div class=\"a-row a-spacing-double-large\" style=\"width: 350px; margin: 0 auto\">\n",
       "<div class=\"a-row a-spacing-medium a-text-center\"><i class=\"a-icon a-logo\"></i></div>\n",
       "<div class=\"a-box a-alert a-alert-info a-spacing-base\">\n",
       "<div class=\"a-box-inner\">\n",
       "<i class=\"a-icon a-icon-alert\"></i>\n",
       "<h4>Enter the characters you see below</h4>\n",
       "<p class=\"a-last\">Sorry, we just need to make sure you're not a robot. For best results, please make sure your browser is accepting cookies.</p>\n",
       "</div>\n",
       "</div>\n",
       "<div class=\"a-section\">\n",
       "<div class=\"a-box a-color-offset-background\">\n",
       "<div class=\"a-box-inner a-padding-extra-large\">\n",
       "<form action=\"/errors/validateCaptcha\" method=\"get\" name=\"\">\n",
       "<input name=\"amzn\" type=\"hidden\" value=\"Dd0CRWNwPEQQq86CXxqJnA==\"/><input name=\"amzn-r\" type=\"hidden\" value=\"/\"/>\n",
       "<div class=\"a-row a-spacing-large\">\n",
       "<div class=\"a-box\">\n",
       "<div class=\"a-box-inner\">\n",
       "<h4>Type the characters you see in this image:</h4>\n",
       "<div class=\"a-row a-text-center\">\n",
       "<img src=\"https://images-na.ssl-images-amazon.com/captcha/cucusdhr/Captcha_lblwcwkaaz.jpg\"/>\n",
       "</div>\n",
       "<div class=\"a-row a-spacing-base\">\n",
       "<div class=\"a-row\">\n",
       "<div class=\"a-column a-span6\">\n",
       "</div>\n",
       "<div class=\"a-column a-span6 a-span-last a-text-right\">\n",
       "<a onclick=\"window.location.reload()\">Try different image</a>\n",
       "</div>\n",
       "</div>\n",
       "<input autocapitalize=\"off\" autocomplete=\"off\" autocorrect=\"off\" class=\"a-span12\" id=\"captchacharacters\" name=\"field-keywords\" placeholder=\"Type characters\" spellcheck=\"false\" type=\"text\"/>\n",
       "</div>\n",
       "</div>\n",
       "</div>\n",
       "</div>\n",
       "<div class=\"a-section a-spacing-extra-large\">\n",
       "<div class=\"a-row\">\n",
       "<span class=\"a-button a-button-primary a-span12\">\n",
       "<span class=\"a-button-inner\">\n",
       "<button class=\"a-button-text\" type=\"submit\">Continue shopping</button>\n",
       "</span>\n",
       "</span>\n",
       "</div>\n",
       "</div>\n",
       "</form>\n",
       "</div>\n",
       "</div>\n",
       "</div>\n",
       "</div>\n",
       "<div class=\"a-divider a-divider-section\"><div class=\"a-divider-inner\"></div></div>\n",
       "<div class=\"a-text-center a-spacing-small a-size-mini\">\n",
       "<a href=\"https://www.amazon.com/gp/help/customer/display.html/ref=footer_cou?ie=UTF8&amp;nodeId=508088\">Conditions of Use</a>\n",
       "<span class=\"a-letter-space\"></span>\n",
       "<span class=\"a-letter-space\"></span>\n",
       "<span class=\"a-letter-space\"></span>\n",
       "<span class=\"a-letter-space\"></span>\n",
       "<a href=\"https://www.amazon.com/gp/help/customer/display.html/ref=footer_privacy?ie=UTF8&amp;nodeId=468496\">Privacy Policy</a>\n",
       "</div>\n",
       "<div class=\"a-text-center a-size-mini a-color-secondary\">\n",
       "          © 1996-2014, Amazon.com, Inc. or its affiliates\n",
       "          <script>\n",
       "           if (true === true) {\n",
       "             document.write('<img src=\"https://fls-na.amaz'+'on.com/'+'1/oc-csi/1/OP/requestId=ED308810ARK8YFS7JV0K&js=1\" />');\n",
       "           };\n",
       "          </script>\n",
       "<noscript>\n",
       "<img src=\"https://fls-na.amazon.com/1/oc-csi/1/OP/requestId=ED308810ARK8YFS7JV0K&amp;js=0\"/>\n",
       "</noscript>\n",
       "</div>\n",
       "</div>\n",
       "<script>\n",
       "    if (true === true) {\n",
       "        var head = document.getElementsByTagName('head')[0],\n",
       "            prefix = \"https://images-na.ssl-images-amazon.com/images/G/01/csminstrumentation/\",\n",
       "            elem = document.createElement(\"script\");\n",
       "        elem.src = prefix + \"csm-captcha-instrumentation.min.js\";\n",
       "        head.appendChild(elem);\n",
       "\n",
       "        elem = document.createElement(\"script\");\n",
       "        elem.src = prefix + \"rd-script-6d68177fa6061598e9509dc4b5bdd08d.js\";\n",
       "        head.appendChild(elem);\n",
       "    }\n",
       "    </script>\n",
       "</body></html>"
      ]
     },
     "execution_count": 13,
     "metadata": {},
     "output_type": "execute_result"
    }
   ],
   "source": [
    "soup"
   ]
  },
  {
   "cell_type": "code",
   "execution_count": 14,
   "id": "70457edb",
   "metadata": {},
   "outputs": [
    {
     "data": {
      "text/html": [
       "<div>\n",
       "<style scoped>\n",
       "    .dataframe tbody tr th:only-of-type {\n",
       "        vertical-align: middle;\n",
       "    }\n",
       "\n",
       "    .dataframe tbody tr th {\n",
       "        vertical-align: top;\n",
       "    }\n",
       "\n",
       "    .dataframe thead th {\n",
       "        text-align: right;\n",
       "    }\n",
       "</style>\n",
       "<table border=\"1\" class=\"dataframe\">\n",
       "  <thead>\n",
       "    <tr style=\"text-align: right;\">\n",
       "      <th></th>\n",
       "      <th>title</th>\n",
       "      <th>author</th>\n",
       "      <th>rating</th>\n",
       "      <th>slick_sheet</th>\n",
       "    </tr>\n",
       "  </thead>\n",
       "  <tbody>\n",
       "    <tr>\n",
       "      <th>0</th>\n",
       "      <td>A is for Activist</td>\n",
       "      <td>Innosanto Nagara</td>\n",
       "      <td>1</td>\n",
       "      <td>...</td>\n",
       "    </tr>\n",
       "    <tr>\n",
       "      <th>1</th>\n",
       "      <td>An ABC of Equality</td>\n",
       "      <td>Chana Ginelle Ewing</td>\n",
       "      <td>1</td>\n",
       "      <td>...</td>\n",
       "    </tr>\n",
       "    <tr>\n",
       "      <th>2</th>\n",
       "      <td>Ablaze with Color: A Story of Painter Alma Tho...</td>\n",
       "      <td>Jeanne Walker Harvey</td>\n",
       "      <td>1</td>\n",
       "      <td>...</td>\n",
       "    </tr>\n",
       "    <tr>\n",
       "      <th>3</th>\n",
       "      <td>The Absolutely True Diary of a Part-Time Indian</td>\n",
       "      <td>Sherman Alexie</td>\n",
       "      <td>2</td>\n",
       "      <td>...</td>\n",
       "    </tr>\n",
       "    <tr>\n",
       "      <th>4</th>\n",
       "      <td>Ace Voices</td>\n",
       "      <td>Eris Young</td>\n",
       "      <td>3</td>\n",
       "      <td>...</td>\n",
       "    </tr>\n",
       "    <tr>\n",
       "      <th>...</th>\n",
       "      <td>...</td>\n",
       "      <td>...</td>\n",
       "      <td>...</td>\n",
       "      <td>...</td>\n",
       "    </tr>\n",
       "    <tr>\n",
       "      <th>518</th>\n",
       "      <td>You: A Novel</td>\n",
       "      <td>Caroline Kepnes</td>\n",
       "      <td>4</td>\n",
       "      <td>...</td>\n",
       "    </tr>\n",
       "    <tr>\n",
       "      <th>519</th>\n",
       "      <td>You Be You!: The Kid's Guide to Gender, Sexual...</td>\n",
       "      <td>Jonathan Branfman</td>\n",
       "      <td>2</td>\n",
       "      <td>...</td>\n",
       "    </tr>\n",
       "    <tr>\n",
       "      <th>520</th>\n",
       "      <td>The You I've Never Known</td>\n",
       "      <td>Ellen Hopkins</td>\n",
       "      <td>3</td>\n",
       "      <td>...</td>\n",
       "    </tr>\n",
       "    <tr>\n",
       "      <th>521</th>\n",
       "      <td>You Matter</td>\n",
       "      <td>Christian Robinson</td>\n",
       "      <td>0</td>\n",
       "      <td>...</td>\n",
       "    </tr>\n",
       "    <tr>\n",
       "      <th>522</th>\n",
       "      <td>You Too?</td>\n",
       "      <td>Janet Gurtler</td>\n",
       "      <td>3</td>\n",
       "      <td>...</td>\n",
       "    </tr>\n",
       "  </tbody>\n",
       "</table>\n",
       "<p>577 rows × 4 columns</p>\n",
       "</div>"
      ],
      "text/plain": [
       "                                                 title                author  \\\n",
       "0                                    A is for Activist      Innosanto Nagara   \n",
       "1                                   An ABC of Equality   Chana Ginelle Ewing   \n",
       "2    Ablaze with Color: A Story of Painter Alma Tho...  Jeanne Walker Harvey   \n",
       "3      The Absolutely True Diary of a Part-Time Indian        Sherman Alexie   \n",
       "4                                           Ace Voices            Eris Young   \n",
       "..                                                 ...                   ...   \n",
       "518                                       You: A Novel       Caroline Kepnes   \n",
       "519  You Be You!: The Kid's Guide to Gender, Sexual...     Jonathan Branfman   \n",
       "520                           The You I've Never Known         Ellen Hopkins   \n",
       "521                                         You Matter    Christian Robinson   \n",
       "522                                           You Too?         Janet Gurtler   \n",
       "\n",
       "    rating slick_sheet  \n",
       "0        1         ...  \n",
       "1        1         ...  \n",
       "2        1         ...  \n",
       "3        2         ...  \n",
       "4        3         ...  \n",
       "..     ...         ...  \n",
       "518      4         ...  \n",
       "519      2         ...  \n",
       "520      3         ...  \n",
       "521      0         ...  \n",
       "522      3         ...  \n",
       "\n",
       "[577 rows x 4 columns]"
      ]
     },
     "execution_count": 14,
     "metadata": {},
     "output_type": "execute_result"
    }
   ],
   "source": [
    "df1"
   ]
  },
  {
   "cell_type": "code",
   "execution_count": 8,
   "id": "412fc3ca",
   "metadata": {},
   "outputs": [],
   "source": [
    "a1=pd.merge(df1,table,how='left')"
   ]
  },
  {
   "cell_type": "code",
   "execution_count": 11,
   "id": "697cc424",
   "metadata": {},
   "outputs": [
    {
     "data": {
      "text/html": [
       "<div>\n",
       "<style scoped>\n",
       "    .dataframe tbody tr th:only-of-type {\n",
       "        vertical-align: middle;\n",
       "    }\n",
       "\n",
       "    .dataframe tbody tr th {\n",
       "        vertical-align: top;\n",
       "    }\n",
       "\n",
       "    .dataframe thead th {\n",
       "        text-align: right;\n",
       "    }\n",
       "</style>\n",
       "<table border=\"1\" class=\"dataframe\">\n",
       "  <thead>\n",
       "    <tr style=\"text-align: right;\">\n",
       "      <th></th>\n",
       "      <th>title</th>\n",
       "      <th>author</th>\n",
       "      <th>rating</th>\n",
       "      <th>slick_sheet</th>\n",
       "      <th>reasons_for_challenge</th>\n",
       "      <th>years_published</th>\n",
       "      <th>alaRank10_19</th>\n",
       "      <th>alaRank00_09</th>\n",
       "      <th>alaRank90_99</th>\n",
       "    </tr>\n",
       "  </thead>\n",
       "  <tbody>\n",
       "    <tr>\n",
       "      <th>319</th>\n",
       "      <td>Little and Lion</td>\n",
       "      <td>Brandy Colbert</td>\n",
       "      <td>3</td>\n",
       "      <td>...</td>\n",
       "      <td>NaN</td>\n",
       "      <td>NaN</td>\n",
       "      <td>NaN</td>\n",
       "      <td>NaN</td>\n",
       "      <td>NaN</td>\n",
       "    </tr>\n",
       "    <tr>\n",
       "      <th>320</th>\n",
       "      <td>The Little Black Book for Girlz: A Book on Hea...</td>\n",
       "      <td>St. Stephen's Community House</td>\n",
       "      <td>4</td>\n",
       "      <td>...</td>\n",
       "      <td>NaN</td>\n",
       "      <td>NaN</td>\n",
       "      <td>NaN</td>\n",
       "      <td>NaN</td>\n",
       "      <td>NaN</td>\n",
       "    </tr>\n",
       "    <tr>\n",
       "      <th>321</th>\n",
       "      <td>Little One</td>\n",
       "      <td>Ariel Andres Almada</td>\n",
       "      <td>0</td>\n",
       "      <td>...</td>\n",
       "      <td>NaN</td>\n",
       "      <td>NaN</td>\n",
       "      <td>NaN</td>\n",
       "      <td>NaN</td>\n",
       "      <td>NaN</td>\n",
       "    </tr>\n",
       "    <tr>\n",
       "      <th>322</th>\n",
       "      <td>Little People, Big Dreams Laverne Cox</td>\n",
       "      <td>Maria Isabel Sanchez Vegara</td>\n",
       "      <td>1</td>\n",
       "      <td>...</td>\n",
       "      <td>NaN</td>\n",
       "      <td>NaN</td>\n",
       "      <td>NaN</td>\n",
       "      <td>NaN</td>\n",
       "      <td>NaN</td>\n",
       "    </tr>\n",
       "    <tr>\n",
       "      <th>323</th>\n",
       "      <td>Little People, Big Dreams RuPaul</td>\n",
       "      <td>Maria Isabel Sanchez Vegara</td>\n",
       "      <td>1</td>\n",
       "      <td>...</td>\n",
       "      <td>NaN</td>\n",
       "      <td>NaN</td>\n",
       "      <td>NaN</td>\n",
       "      <td>NaN</td>\n",
       "      <td>NaN</td>\n",
       "    </tr>\n",
       "  </tbody>\n",
       "</table>\n",
       "</div>"
      ],
      "text/plain": [
       "                                                 title  \\\n",
       "319                                    Little and Lion   \n",
       "320  The Little Black Book for Girlz: A Book on Hea...   \n",
       "321                                         Little One   \n",
       "322              Little People, Big Dreams Laverne Cox   \n",
       "323                   Little People, Big Dreams RuPaul   \n",
       "\n",
       "                            author rating slick_sheet reasons_for_challenge  \\\n",
       "319                 Brandy Colbert      3         ...                   NaN   \n",
       "320  St. Stephen's Community House      4         ...                   NaN   \n",
       "321            Ariel Andres Almada      0         ...                   NaN   \n",
       "322    Maria Isabel Sanchez Vegara      1         ...                   NaN   \n",
       "323    Maria Isabel Sanchez Vegara      1         ...                   NaN   \n",
       "\n",
       "    years_published alaRank10_19 alaRank00_09 alaRank90_99  \n",
       "319             NaN          NaN          NaN          NaN  \n",
       "320             NaN          NaN          NaN          NaN  \n",
       "321             NaN          NaN          NaN          NaN  \n",
       "322             NaN          NaN          NaN          NaN  \n",
       "323             NaN          NaN          NaN          NaN  "
      ]
     },
     "execution_count": 11,
     "metadata": {},
     "output_type": "execute_result"
    }
   ],
   "source": [
    "a1[a1.title.str.contains(\"Little\",na=False,case=False)]"
   ]
  },
  {
   "cell_type": "code",
   "execution_count": 25,
   "id": "b406eb92",
   "metadata": {},
   "outputs": [
    {
     "data": {
      "text/html": [
       "<div>\n",
       "<style scoped>\n",
       "    .dataframe tbody tr th:only-of-type {\n",
       "        vertical-align: middle;\n",
       "    }\n",
       "\n",
       "    .dataframe tbody tr th {\n",
       "        vertical-align: top;\n",
       "    }\n",
       "\n",
       "    .dataframe thead th {\n",
       "        text-align: right;\n",
       "    }\n",
       "</style>\n",
       "<table border=\"1\" class=\"dataframe\">\n",
       "  <thead>\n",
       "    <tr style=\"text-align: right;\">\n",
       "      <th></th>\n",
       "      <th>title</th>\n",
       "      <th>author</th>\n",
       "      <th>rating</th>\n",
       "      <th>slick_sheet</th>\n",
       "      <th>reasons_for_challenge</th>\n",
       "      <th>years_published</th>\n",
       "      <th>alaRank10_19</th>\n",
       "      <th>alaRank00_09</th>\n",
       "      <th>alaRank90_99</th>\n",
       "    </tr>\n",
       "  </thead>\n",
       "  <tbody>\n",
       "    <tr>\n",
       "      <th>3</th>\n",
       "      <td>The Absolutely True Diary of a Part-Time Indian</td>\n",
       "      <td>Sherman Alexie</td>\n",
       "      <td>2</td>\n",
       "      <td>...</td>\n",
       "      <td>Content regarding alcohol, bullying, violence;...</td>\n",
       "      <td>2007</td>\n",
       "      <td>1</td>\n",
       "      <td>—</td>\n",
       "      <td>—</td>\n",
       "    </tr>\n",
       "  </tbody>\n",
       "</table>\n",
       "</div>"
      ],
      "text/plain": [
       "                                             title          author rating  \\\n",
       "3  The Absolutely True Diary of a Part-Time Indian  Sherman Alexie      2   \n",
       "\n",
       "  slick_sheet                              reasons_for_challenge  \\\n",
       "3         ...  Content regarding alcohol, bullying, violence;...   \n",
       "\n",
       "  years_published alaRank10_19 alaRank00_09 alaRank90_99  \n",
       "3            2007            1            —            —  "
      ]
     },
     "execution_count": 25,
     "metadata": {},
     "output_type": "execute_result"
    }
   ],
   "source": [
    "a1[a1.alaRank10_19==\"1\"]"
   ]
  },
  {
   "cell_type": "code",
   "execution_count": 30,
   "id": "b855ac2c",
   "metadata": {},
   "outputs": [],
   "source": [
    "import numpy as np\n",
    "a1['alaRank10_19']=a1.alaRank10_19.replace(\"—\",np.nan).astype(float)"
   ]
  },
  {
   "cell_type": "code",
   "execution_count": 32,
   "id": "f49bea10",
   "metadata": {},
   "outputs": [
    {
     "data": {
      "text/html": [
       "<div>\n",
       "<style scoped>\n",
       "    .dataframe tbody tr th:only-of-type {\n",
       "        vertical-align: middle;\n",
       "    }\n",
       "\n",
       "    .dataframe tbody tr th {\n",
       "        vertical-align: top;\n",
       "    }\n",
       "\n",
       "    .dataframe thead th {\n",
       "        text-align: right;\n",
       "    }\n",
       "</style>\n",
       "<table border=\"1\" class=\"dataframe\">\n",
       "  <thead>\n",
       "    <tr style=\"text-align: right;\">\n",
       "      <th></th>\n",
       "      <th>title</th>\n",
       "      <th>author</th>\n",
       "      <th>rating</th>\n",
       "      <th>slick_sheet</th>\n",
       "      <th>reasons_for_challenge</th>\n",
       "      <th>years_published</th>\n",
       "      <th>alaRank10_19</th>\n",
       "      <th>alaRank00_09</th>\n",
       "      <th>alaRank90_99</th>\n",
       "    </tr>\n",
       "  </thead>\n",
       "  <tbody>\n",
       "    <tr>\n",
       "      <th>3</th>\n",
       "      <td>The Absolutely True Diary of a Part-Time Indian</td>\n",
       "      <td>Sherman Alexie</td>\n",
       "      <td>2</td>\n",
       "      <td>...</td>\n",
       "      <td>Content regarding alcohol, bullying, violence;...</td>\n",
       "      <td>2007</td>\n",
       "      <td>1.0</td>\n",
       "      <td>—</td>\n",
       "      <td>—</td>\n",
       "    </tr>\n",
       "    <tr>\n",
       "      <th>83</th>\n",
       "      <td>The Bluest Eye</td>\n",
       "      <td>Toni Morrison</td>\n",
       "      <td>4</td>\n",
       "      <td>...</td>\n",
       "      <td>Themes of racism, incest and child sexual abuse</td>\n",
       "      <td>1970</td>\n",
       "      <td>10.0</td>\n",
       "      <td>15</td>\n",
       "      <td>34</td>\n",
       "    </tr>\n",
       "    <tr>\n",
       "      <th>158</th>\n",
       "      <td>Drama</td>\n",
       "      <td>Raina Telgemeier</td>\n",
       "      <td>2</td>\n",
       "      <td>...</td>\n",
       "      <td>Includes LGBT characters, was deemed sexually ...</td>\n",
       "      <td>2012</td>\n",
       "      <td>7.0</td>\n",
       "      <td>—</td>\n",
       "      <td>—</td>\n",
       "    </tr>\n",
       "    <tr>\n",
       "      <th>201</th>\n",
       "      <td>George</td>\n",
       "      <td>Alex Gino</td>\n",
       "      <td>2</td>\n",
       "      <td>...</td>\n",
       "      <td>Includes a transgender child, and the \"sexuali...</td>\n",
       "      <td>2015</td>\n",
       "      <td>5.0</td>\n",
       "      <td>—</td>\n",
       "      <td>—</td>\n",
       "    </tr>\n",
       "    <tr>\n",
       "      <th>503</th>\n",
       "      <td>Thirteen Reasons Why</td>\n",
       "      <td>Jay Asher</td>\n",
       "      <td>3</td>\n",
       "      <td>...</td>\n",
       "      <td>Drugs/alcohol/smoking, sexually explicit, suic...</td>\n",
       "      <td>2007</td>\n",
       "      <td>3.0</td>\n",
       "      <td>—</td>\n",
       "      <td>—</td>\n",
       "    </tr>\n",
       "  </tbody>\n",
       "</table>\n",
       "</div>"
      ],
      "text/plain": [
       "                                               title            author rating  \\\n",
       "3    The Absolutely True Diary of a Part-Time Indian    Sherman Alexie      2   \n",
       "83                                    The Bluest Eye     Toni Morrison      4   \n",
       "158                                            Drama  Raina Telgemeier      2   \n",
       "201                                           George         Alex Gino      2   \n",
       "503                             Thirteen Reasons Why         Jay Asher      3   \n",
       "\n",
       "    slick_sheet                              reasons_for_challenge  \\\n",
       "3           ...  Content regarding alcohol, bullying, violence;...   \n",
       "83          ...    Themes of racism, incest and child sexual abuse   \n",
       "158         ...  Includes LGBT characters, was deemed sexually ...   \n",
       "201         ...  Includes a transgender child, and the \"sexuali...   \n",
       "503         ...  Drugs/alcohol/smoking, sexually explicit, suic...   \n",
       "\n",
       "    years_published  alaRank10_19 alaRank00_09 alaRank90_99  \n",
       "3              2007           1.0            —            —  \n",
       "83             1970          10.0           15           34  \n",
       "158            2012           7.0            —            —  \n",
       "201            2015           5.0            —            —  \n",
       "503            2007           3.0            —            —  "
      ]
     },
     "execution_count": 32,
     "metadata": {},
     "output_type": "execute_result"
    }
   ],
   "source": [
    "a1[a1.alaRank10_19<=10]"
   ]
  },
  {
   "cell_type": "code",
   "execution_count": 35,
   "id": "8da9126a",
   "metadata": {},
   "outputs": [
    {
     "data": {
      "text/html": [
       "<div>\n",
       "<style scoped>\n",
       "    .dataframe tbody tr th:only-of-type {\n",
       "        vertical-align: middle;\n",
       "    }\n",
       "\n",
       "    .dataframe tbody tr th {\n",
       "        vertical-align: top;\n",
       "    }\n",
       "\n",
       "    .dataframe thead th {\n",
       "        text-align: right;\n",
       "    }\n",
       "</style>\n",
       "<table border=\"1\" class=\"dataframe\">\n",
       "  <thead>\n",
       "    <tr style=\"text-align: right;\">\n",
       "      <th></th>\n",
       "      <th>title</th>\n",
       "      <th>author</th>\n",
       "      <th>rating</th>\n",
       "      <th>slick_sheet</th>\n",
       "      <th>reasons_for_challenge</th>\n",
       "      <th>years_published</th>\n",
       "      <th>alaRank10_19</th>\n",
       "      <th>alaRank00_09</th>\n",
       "      <th>alaRank90_99</th>\n",
       "    </tr>\n",
       "  </thead>\n",
       "  <tbody>\n",
       "    <tr>\n",
       "      <th>74</th>\n",
       "      <td>Beyond Magenta: Transgender Teens Speak Out</td>\n",
       "      <td>Susan Kuklin</td>\n",
       "      <td>2</td>\n",
       "      <td>...</td>\n",
       "      <td>Anti-family, offensive language, homosexuality...</td>\n",
       "      <td>2014</td>\n",
       "      <td>27.0</td>\n",
       "      <td>—</td>\n",
       "      <td>—</td>\n",
       "    </tr>\n",
       "    <tr>\n",
       "      <th>254</th>\n",
       "      <td>I Am Jazz</td>\n",
       "      <td>Jessica Herthel and Jazz Jennings</td>\n",
       "      <td>1</td>\n",
       "      <td>...</td>\n",
       "      <td>Inaccurate, homosexuality, sex education, reli...</td>\n",
       "      <td>2014</td>\n",
       "      <td>13.0</td>\n",
       "      <td>—</td>\n",
       "      <td>—</td>\n",
       "    </tr>\n",
       "    <tr>\n",
       "      <th>529</th>\n",
       "      <td>Two Boys Kissing</td>\n",
       "      <td>David Levithan</td>\n",
       "      <td>2</td>\n",
       "      <td>...</td>\n",
       "      <td>Homosexuality and other (\"condones public disp...</td>\n",
       "      <td>2013</td>\n",
       "      <td>18.0</td>\n",
       "      <td>—</td>\n",
       "      <td>—</td>\n",
       "    </tr>\n",
       "  </tbody>\n",
       "</table>\n",
       "</div>"
      ],
      "text/plain": [
       "                                           title  \\\n",
       "74   Beyond Magenta: Transgender Teens Speak Out   \n",
       "254                                    I Am Jazz   \n",
       "529                             Two Boys Kissing   \n",
       "\n",
       "                                author rating slick_sheet  \\\n",
       "74                        Susan Kuklin      2         ...   \n",
       "254  Jessica Herthel and Jazz Jennings      1         ...   \n",
       "529                     David Levithan      2         ...   \n",
       "\n",
       "                                 reasons_for_challenge years_published  \\\n",
       "74   Anti-family, offensive language, homosexuality...            2014   \n",
       "254  Inaccurate, homosexuality, sex education, reli...            2014   \n",
       "529  Homosexuality and other (\"condones public disp...            2013   \n",
       "\n",
       "     alaRank10_19 alaRank00_09 alaRank90_99  \n",
       "74           27.0            —            —  \n",
       "254          13.0            —            —  \n",
       "529          18.0            —            —  "
      ]
     },
     "execution_count": 35,
     "metadata": {},
     "output_type": "execute_result"
    }
   ],
   "source": [
    "a1[a1.reasons_for_challenge.str.contains(\"homo\", case=False, na=False)]"
   ]
  },
  {
   "cell_type": "code",
   "execution_count": null,
   "id": "dcbebd9a",
   "metadata": {},
   "outputs": [],
   "source": []
  },
  {
   "cell_type": "code",
   "execution_count": null,
   "id": "ca87c0fb",
   "metadata": {},
   "outputs": [],
   "source": []
  },
  {
   "cell_type": "code",
   "execution_count": null,
   "id": "3222a4ec",
   "metadata": {},
   "outputs": [],
   "source": []
  },
  {
   "cell_type": "code",
   "execution_count": null,
   "id": "c2d4204a",
   "metadata": {},
   "outputs": [],
   "source": []
  },
  {
   "cell_type": "code",
   "execution_count": null,
   "id": "ab238c16",
   "metadata": {},
   "outputs": [],
   "source": []
  },
  {
   "cell_type": "code",
   "execution_count": null,
   "id": "fecc4c12",
   "metadata": {},
   "outputs": [],
   "source": []
  },
  {
   "cell_type": "code",
   "execution_count": null,
   "id": "d90fa291",
   "metadata": {},
   "outputs": [],
   "source": []
  },
  {
   "cell_type": "code",
   "execution_count": 3,
   "id": "933e930b",
   "metadata": {},
   "outputs": [
    {
     "name": "stdout",
     "output_type": "stream",
     "text": [
      "About 9 of Ellen Hopkins books have a 3 rating on BookLooks.\n",
      "This author has 2 titles with the highest (worst) rating on BookLooks.\n"
     ]
    }
   ],
   "source": [
    "mchallaut_highest=df1[(df1.author==most_challenged_author)&(df1.rating==5)].title.count()\n",
    "most_challenged_author = df1.author.value_counts().index[0]\n",
    "df1['rating']=df1.rating.astype(int)\n",
    "most_common_rating_value=df1[df1.author==most_challenged_author].rating.astype(str).value_counts()[0]\n",
    "most_common_rating=df1[df1.author==most_challenged_author].rating.astype(str).value_counts().index[0]\n",
    "print(\"About \"+str(most_common_rating_value)+\" of \"+str(most_challenged_author)+\" books have a \"+str(most_common_rating)+\" rating on BookLooks.\")\n",
    "print(\"This author has \"+str(mchallaut_highest)+\" titles with the highest (worst) rating on BookLooks.\")"
   ]
  },
  {
   "cell_type": "code",
   "execution_count": 4,
   "id": "ba9aed4f",
   "metadata": {},
   "outputs": [
    {
     "name": "stdout",
     "output_type": "stream",
     "text": [
      "About 9 of Ellen Hopkins books have a 3 rating on BookLooks.\n",
      "This author has 2 titles with the highest (worst) rating on BookLooks.\n"
     ]
    }
   ],
   "source": [
    "df1['rating']=df1.rating.astype(int)\n",
    "most_common_rating_value=df1[df1.author==most_challenged_author].rating.astype(str).value_counts()[0]\n",
    "most_common_rating=df1[df1.author==most_challenged_author].rating.astype(str).value_counts().index[0]\n",
    "print(\"About \"+str(most_common_rating_value)+\" of \"+str(most_challenged_author)+\" books have a \"+str(most_common_rating)+\" rating on BookLooks.\")\n",
    "print(\"This author has \"+str(mchallaut_highest)+\" titles with the highest (worst) rating on BookLooks.\")"
   ]
  },
  {
   "cell_type": "code",
   "execution_count": 5,
   "id": "a6b31f12",
   "metadata": {},
   "outputs": [
    {
     "name": "stdout",
     "output_type": "stream",
     "text": [
      "About 9 of Ellen Hopkins books have a 3 rating on BookLooks.\n",
      "This author has 2 titles with the highest (worst) rating on BookLooks.\n"
     ]
    }
   ],
   "source": [
    "most_common_rating_value=df1[df1.author==most_challenged_author].rating.astype(str).value_counts()[0]\n",
    "most_common_rating=df1[df1.author==most_challenged_author].rating.astype(str).value_counts().index[0]\n",
    "print(\"About \"+str(most_common_rating_value)+\" of \"+str(most_challenged_author)+\" books have a \"+str(most_common_rating)+\" rating on BookLooks.\")\n",
    "print(\"This author has \"+str(mchallaut_highest)+\" titles with the highest (worst) rating on BookLooks.\")"
   ]
  },
  {
   "cell_type": "code",
   "execution_count": 6,
   "id": "c8221bfa",
   "metadata": {},
   "outputs": [
    {
     "name": "stdout",
     "output_type": "stream",
     "text": [
      "About 9 of Ellen Hopkins books have a 3 rating on BookLooks.\n",
      "This author has 2 titles with the highest (worst) rating on BookLooks.\n"
     ]
    }
   ],
   "source": [
    "most_common_rating=df1[df1.author==most_challenged_author].rating.astype(str).value_counts().index[0]\n",
    "print(\"About \"+str(most_common_rating_value)+\" of \"+str(most_challenged_author)+\" books have a \"+str(most_common_rating)+\" rating on BookLooks.\")\n",
    "print(\"This author has \"+str(mchallaut_highest)+\" titles with the highest (worst) rating on BookLooks.\")"
   ]
  },
  {
   "cell_type": "code",
   "execution_count": 7,
   "id": "ddc0ee34",
   "metadata": {},
   "outputs": [
    {
     "name": "stdout",
     "output_type": "stream",
     "text": [
      "About 9 of Ellen Hopkins books have a 3 rating on BookLooks.\n",
      "This author has 2 titles with the highest (worst) rating on BookLooks.\n"
     ]
    }
   ],
   "source": [
    "print(\"About \"+str(most_common_rating_value)+\" of \"+str(most_challenged_author)+\" books have a \"+str(most_common_rating)+\" rating on BookLooks.\")\n",
    "print(\"This author has \"+str(mchallaut_highest)+\" titles with the highest (worst) rating on BookLooks.\")"
   ]
  },
  {
   "cell_type": "code",
   "execution_count": 97,
   "id": "76c7519a",
   "metadata": {},
   "outputs": [],
   "source": [
    "mchallaut_highest=df1[(df1.author==most_challenged_author)&(df1.rating==5)].title.count()"
   ]
  },
  {
   "cell_type": "code",
   "execution_count": 111,
   "id": "21ce1709",
   "metadata": {},
   "outputs": [
    {
     "name": "stdout",
     "output_type": "stream",
     "text": [
      "This author has 2 titles with the highest (worst) rating on BookLooks.\n"
     ]
    }
   ],
   "source": [
    "print(\"This author has \"+str(mchallaut_highest)+\" titles with the highest (worst) rating on BookLooks.\")"
   ]
  },
  {
   "cell_type": "code",
   "execution_count": 108,
   "id": "fc623042",
   "metadata": {},
   "outputs": [
    {
     "data": {
      "text/plain": [
       "5"
      ]
     },
     "execution_count": 108,
     "metadata": {},
     "output_type": "execute_result"
    }
   ],
   "source": [
    "df1[(df1.author==most_challenged_author)].rating.max()"
   ]
  },
  {
   "cell_type": "code",
   "execution_count": 107,
   "id": "5bc0a5db",
   "metadata": {},
   "outputs": [
    {
     "data": {
      "text/plain": [
       "467    Triangles\n",
       "468       Tricks\n",
       "Name: title, dtype: object"
      ]
     },
     "execution_count": 107,
     "metadata": {},
     "output_type": "execute_result"
    }
   ],
   "source": [
    "df1[(df1.author==most_challenged_author)&(df1.rating==5)].title"
   ]
  },
  {
   "cell_type": "markdown",
   "id": "12444f37",
   "metadata": {},
   "source": [
    "scrape this page next\n",
    "https://en.wikipedia.org/wiki/List_of_most_commonly_challenged_books_in_the_United_States"
   ]
  },
  {
   "cell_type": "code",
   "execution_count": null,
   "id": "7dedb81a",
   "metadata": {},
   "outputs": [],
   "source": []
  },
  {
   "cell_type": "code",
   "execution_count": null,
   "id": "3c66ddb1",
   "metadata": {},
   "outputs": [],
   "source": []
  }
 ],
 "metadata": {
  "kernelspec": {
   "display_name": "Python 3 (ipykernel)",
   "language": "python",
   "name": "python3"
  },
  "language_info": {
   "codemirror_mode": {
    "name": "ipython",
    "version": 3
   },
   "file_extension": ".py",
   "mimetype": "text/x-python",
   "name": "python",
   "nbconvert_exporter": "python",
   "pygments_lexer": "ipython3",
   "version": "3.10.5"
  }
 },
 "nbformat": 4,
 "nbformat_minor": 5
}
